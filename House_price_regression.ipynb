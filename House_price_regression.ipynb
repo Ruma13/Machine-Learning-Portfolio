{
  "metadata": {
    "kernelspec": {
      "language": "python",
      "display_name": "Python 3",
      "name": "python3"
    },
    "language_info": {
      "name": "python",
      "version": "3.11.13",
      "mimetype": "text/x-python",
      "codemirror_mode": {
        "name": "ipython",
        "version": 3
      },
      "pygments_lexer": "ipython3",
      "nbconvert_exporter": "python",
      "file_extension": ".py"
    },
    "kaggle": {
      "accelerator": "none",
      "dataSources": [
        {
          "sourceId": 13200010,
          "sourceType": "datasetVersion",
          "datasetId": 8365592
        }
      ],
      "dockerImageVersionId": 31089,
      "isInternetEnabled": true,
      "language": "python",
      "sourceType": "notebook",
      "isGpuEnabled": false
    },
    "colab": {
      "name": "House_price_regression",
      "provenance": [],
      "include_colab_link": true
    }
  },
  "nbformat_minor": 0,
  "nbformat": 4,
  "cells": [
    {
      "cell_type": "markdown",
      "metadata": {
        "id": "view-in-github",
        "colab_type": "text"
      },
      "source": [
        "<a href=\"https://colab.research.google.com/github/Ruma13/Machine-Learning-Portfolio/blob/main/House_price_regression.ipynb\" target=\"_parent\"><img src=\"https://colab.research.google.com/assets/colab-badge.svg\" alt=\"Open In Colab\"/></a>"
      ]
    },
    {
      "source": [
        "# IMPORTANT: SOME KAGGLE DATA SOURCES ARE PRIVATE\n",
        "# RUN THIS CELL IN ORDER TO IMPORT YOUR KAGGLE DATA SOURCES.\n",
        "import kagglehub\n",
        "kagglehub.login()\n"
      ],
      "metadata": {
        "id": "d5o8I4xOfHAW"
      },
      "cell_type": "code",
      "outputs": [],
      "execution_count": null
    },
    {
      "source": [
        "# IMPORTANT: RUN THIS CELL IN ORDER TO IMPORT YOUR KAGGLE DATA SOURCES,\n",
        "# THEN FEEL FREE TO DELETE THIS CELL.\n",
        "# NOTE: THIS NOTEBOOK ENVIRONMENT DIFFERS FROM KAGGLE'S PYTHON\n",
        "# ENVIRONMENT SO THERE MAY BE MISSING LIBRARIES USED BY YOUR\n",
        "# NOTEBOOK.\n",
        "\n",
        "rumaaktertushi_house_prices_advanced_regression_techniques_path = kagglehub.dataset_download('rumaaktertushi/house-prices-advanced-regression-techniques')\n",
        "\n",
        "print('Data source import complete.')\n"
      ],
      "metadata": {
        "id": "oYhwhSeDfHAX"
      },
      "cell_type": "code",
      "outputs": [],
      "execution_count": null
    },
    {
      "cell_type": "code",
      "source": [
        "# This Python 3 environment comes with many helpful analytics libraries installed\n",
        "# It is defined by the kaggle/python Docker image: https://github.com/kaggle/docker-python\n",
        "# For example, here's several helpful packages to load\n",
        "\n",
        "import numpy as np # linear algebra\n",
        "import pandas as pd # data processing, CSV file I/O (e.g. pd.read_csv)\n",
        "\n",
        "# Input data files are available in the read-only \"../input/\" directory\n",
        "# For example, running this (by clicking run or pressing Shift+Enter) will list all files under the input directory\n",
        "\n",
        "import os\n",
        "for dirname, _, filenames in os.walk('/kaggle/input'):\n",
        "    for filename in filenames:\n",
        "        print(os.path.join(dirname, filename))\n",
        "\n",
        "# You can write up to 20GB to the current directory (/kaggle/working/) that gets preserved as output when you create a version using \"Save & Run All\"\n",
        "# You can also write temporary files to /kaggle/temp/, but they won't be saved outside of the current session"
      ],
      "metadata": {
        "_uuid": "8f2839f25d086af736a60e9eeb907d3b93b6e0e5",
        "_cell_guid": "b1076dfc-b9ad-4769-8c92-a6c4dae69d19",
        "trusted": true,
        "execution": {
          "iopub.status.busy": "2025-09-29T03:07:48.103073Z",
          "iopub.execute_input": "2025-09-29T03:07:48.103982Z",
          "iopub.status.idle": "2025-09-29T03:07:48.113064Z",
          "shell.execute_reply.started": "2025-09-29T03:07:48.103948Z",
          "shell.execute_reply": "2025-09-29T03:07:48.112064Z"
        },
        "id": "nkvwhBxvfHAX"
      },
      "outputs": [],
      "execution_count": null
    },
    {
      "cell_type": "markdown",
      "source": [
        "**Load & quick EDA**"
      ],
      "metadata": {
        "id": "eLiwUB8LfHAY"
      }
    },
    {
      "cell_type": "markdown",
      "source": [
        "(Exploratory Data Analysis)"
      ],
      "metadata": {
        "id": "D1yketpcfHAZ"
      }
    },
    {
      "cell_type": "code",
      "source": [
        "import pandas as pd\n",
        "import numpy as np\n",
        "import matplotlib.pyplot as plt\n",
        "import seaborn as sns\n",
        "\n",
        "train = pd.read_csv(\"/kaggle/input/house-prices-advanced-regression-techniques/train.csv\")\n",
        "test  = pd.read_csv(\"/kaggle/input/house-prices-advanced-regression-techniques/test.csv\")\n",
        "\n",
        "# Peek at dataset\n",
        "print(\"Train shape:\", train.shape)\n",
        "print(\"Test shape :\", test.shape)\n",
        "\n",
        "print(\"\\n First 5 rows:\")\n",
        "display(train.head())\n",
        "\n",
        "print(\"\\n Info (data types + missing values):\")\n",
        "train.info()\n",
        "\n",
        "print(\"\\n Summary statistics:\")\n",
        "display(train.describe())\n",
        "\n",
        "#  Correlation with SalePrice (numeric columns only)\n",
        "numeric_cols = train.select_dtypes(include=[np.number])   # select only numeric features\n",
        "corr = numeric_cols.corr()['SalePrice'].sort_values(ascending=False)\n",
        "\n",
        "print(\"\\n🔹 Top 10 correlated features with SalePrice:\")\n",
        "print(corr.head(10))\n",
        "\n",
        "#  Quick heatmap of top correlations\n",
        "top_corr_features = corr.index[:10]\n",
        "plt.figure(figsize=(10,6))\n",
        "sns.heatmap(train[top_corr_features].corr(), annot=True, cmap=\"coolwarm\")\n",
        "plt.title(\"Top Correlated Features with SalePrice\")\n",
        "plt.show()\n"
      ],
      "metadata": {
        "trusted": true,
        "execution": {
          "iopub.status.busy": "2025-09-29T03:07:48.114654Z",
          "iopub.execute_input": "2025-09-29T03:07:48.114974Z",
          "iopub.status.idle": "2025-09-29T03:07:48.853796Z",
          "shell.execute_reply.started": "2025-09-29T03:07:48.114945Z",
          "shell.execute_reply": "2025-09-29T03:07:48.852966Z"
        },
        "id": "9PYURXLpfHAZ"
      },
      "outputs": [],
      "execution_count": null
    },
    {
      "cell_type": "markdown",
      "source": [
        "**Feature engineering & preprocessing plan (high level)**\n",
        "\n",
        "Create TotalSF = TotalBsmtSF + 1stFlrSF + 2ndFlrSF.\n",
        "\n",
        "Age feature: YearSold - YearBuilt.\n",
        "\n",
        "Fill missing values: numeric → median; categorical → \"Missing\" or mode.\n",
        "\n",
        "Encode categoricals with OneHotEncoder (handle unknowns).\n",
        "\n",
        "Scale numeric features with StandardScaler.\n",
        "\n",
        "Build a ColumnTransformer and an end-to-end Pipeline.\n",
        "\n",
        "**Build preprocessing pipeline**"
      ],
      "metadata": {
        "id": "JcXUFS01fHAZ"
      }
    },
    {
      "cell_type": "code",
      "source": [
        "from sklearn.impute import SimpleImputer\n",
        "from sklearn.preprocessing import OneHotEncoder, StandardScaler\n",
        "from sklearn.pipeline import Pipeline\n",
        "from sklearn.compose import ColumnTransformer\n",
        "\n",
        "# select feature subsets (example subset to keep this demo short)\n",
        "num_features = ['LotArea','OverallQual','OverallCond','YearBuilt','TotalBsmtSF','GrLivArea']\n",
        "cat_features = ['Neighborhood','ExterQual','KitchenQual','MSZoning']\n",
        "\n",
        "# create derived column in original frames\n",
        "for df in [train, test]:\n",
        "    df['TotalSF'] = df['TotalBsmtSF'].fillna(0) + df['1stFlrSF'].fillna(0) + df.get('2ndFlrSF', 0).fillna(0)\n",
        "    df['HouseAge'] = df['YrSold'] - df['YearBuilt']\n",
        "\n",
        "# update numeric list\n",
        "num_features += ['TotalSF','HouseAge']\n",
        "\n",
        "# numeric pipeline: impute median, then scale\n",
        "num_pipeline = Pipeline([\n",
        "    ('imputer', SimpleImputer(strategy='median')),\n",
        "    ('scaler', StandardScaler())\n",
        "])\n",
        "\n",
        "# categorical pipeline: impute constant then one-hot\n",
        "cat_pipeline = Pipeline([\n",
        "    ('imputer', SimpleImputer(strategy='constant', fill_value='Missing')),\n",
        "    ('ohe', OneHotEncoder(handle_unknown='ignore', sparse=False))\n",
        "])\n",
        "\n",
        "preprocessor = ColumnTransformer([\n",
        "    ('num', num_pipeline, num_features),\n",
        "    ('cat', cat_pipeline, cat_features)\n",
        "])\n"
      ],
      "metadata": {
        "trusted": true,
        "execution": {
          "iopub.status.busy": "2025-09-29T03:07:48.855335Z",
          "iopub.execute_input": "2025-09-29T03:07:48.855653Z",
          "iopub.status.idle": "2025-09-29T03:07:48.867639Z",
          "shell.execute_reply.started": "2025-09-29T03:07:48.855627Z",
          "shell.execute_reply": "2025-09-29T03:07:48.866634Z"
        },
        "id": "QG0VGs7JfHAa"
      },
      "outputs": [],
      "execution_count": null
    },
    {
      "cell_type": "code",
      "source": [
        "from sklearn.impute import SimpleImputer\n",
        "from sklearn.preprocessing import OneHotEncoder, StandardScaler\n",
        "from sklearn.pipeline import Pipeline\n",
        "from sklearn.compose import ColumnTransformer\n",
        "\n",
        "# select feature subsets (example subset to keep this demo short)\n",
        "num_features = ['LotArea','OverallQual','OverallCond','YearBuilt','TotalBsmtSF','GrLivArea']\n",
        "cat_features = ['Neighborhood','ExterQual','KitchenQual','MSZoning']\n",
        "\n",
        "# create derived column in original frames\n",
        "for df in [train, test]:\n",
        "    df['TotalSF'] = df['TotalBsmtSF'].fillna(0) + df['1stFlrSF'].fillna(0) + df.get('2ndFlrSF', 0).fillna(0)\n",
        "    df['HouseAge'] = df['YrSold'] - df['YearBuilt']\n",
        "\n",
        "# update numeric list\n",
        "num_features += ['TotalSF','HouseAge']\n",
        "\n",
        "# numeric pipeline: impute median, then scale\n",
        "num_pipeline = Pipeline([\n",
        "    ('imputer', SimpleImputer(strategy='median')),\n",
        "    ('scaler', StandardScaler())\n",
        "])\n",
        "\n",
        "# categorical pipeline: impute constant then one-hot\n",
        "cat_pipeline = Pipeline([\n",
        "    ('imputer', SimpleImputer(strategy='constant', fill_value='Missing')),\n",
        "    ('ohe', OneHotEncoder(handle_unknown='ignore', sparse=False))\n",
        "])\n",
        "\n",
        "preprocessor = ColumnTransformer([\n",
        "    ('num', num_pipeline, num_features),\n",
        "    ('cat', cat_pipeline, cat_features)\n",
        "])\n"
      ],
      "metadata": {
        "trusted": true,
        "execution": {
          "iopub.status.busy": "2025-09-29T03:07:48.868566Z",
          "iopub.execute_input": "2025-09-29T03:07:48.868911Z",
          "iopub.status.idle": "2025-09-29T03:07:48.893651Z",
          "shell.execute_reply.started": "2025-09-29T03:07:48.868881Z",
          "shell.execute_reply": "2025-09-29T03:07:48.892852Z"
        },
        "id": "YiMAFK7TfHAa"
      },
      "outputs": [],
      "execution_count": null
    },
    {
      "cell_type": "markdown",
      "source": [
        "**Train/test split and baseline model**"
      ],
      "metadata": {
        "id": "vuVhlz7jfHAa"
      }
    },
    {
      "cell_type": "code",
      "source": [
        "from sklearn.model_selection import train_test_split\n",
        "from sklearn.linear_model import LinearRegression\n",
        "from sklearn.ensemble import RandomForestRegressor\n",
        "from xgboost import XGBRegressor\n",
        "from sklearn.metrics import mean_squared_error, r2_score\n",
        "from sklearn.pipeline import Pipeline\n",
        "import pandas as pd\n",
        "import math\n",
        "\n",
        "# Features and target\n",
        "X = train[num_features + cat_features]\n",
        "y = np.log1p(train['SalePrice'])  # log-transform\n",
        "\n",
        "# Split the data\n",
        "X_train, X_val, y_train, y_val = train_test_split(X, y, test_size=0.2, random_state=42)\n",
        "\n",
        "# Dictionary to store models and results\n",
        "models = {\n",
        "    'Linear Regression': LinearRegression(),\n",
        "    'Random Forest': RandomForestRegressor(random_state=42, n_jobs=-1),\n",
        "    'XGBoost': XGBRegressor(random_state=42, n_jobs=-1, verbosity=0)\n",
        "}\n",
        "\n",
        "results = []\n",
        "\n",
        "# Train each model and evaluate\n",
        "for name, model in models.items():\n",
        "    pipeline = Pipeline([\n",
        "        ('preprocessor', preprocessor),  # your preprocessing pipeline\n",
        "        ('regressor', model)\n",
        "    ])\n",
        "    pipeline.fit(X_train, y_train)\n",
        "    preds = pipeline.predict(X_val)\n",
        "\n",
        "    rmse = math.sqrt(mean_squared_error(y_val, preds))\n",
        "    r2 = r2_score(y_val, preds)\n",
        "\n",
        "    results.append({'Model': name, 'RMSE': round(rmse, 3), 'R² Score': round(r2, 2)})\n",
        "\n",
        "# Convert results to DataFrame for clean table display\n",
        "comparison_table = pd.DataFrame(results)\n",
        "print(comparison_table)\n"
      ],
      "metadata": {
        "trusted": true,
        "execution": {
          "iopub.status.busy": "2025-09-29T03:07:48.895726Z",
          "iopub.execute_input": "2025-09-29T03:07:48.896033Z",
          "iopub.status.idle": "2025-09-29T03:07:49.726778Z",
          "shell.execute_reply.started": "2025-09-29T03:07:48.896012Z",
          "shell.execute_reply": "2025-09-29T03:07:49.725963Z"
        },
        "id": "yW_ovtqTfHAb"
      },
      "outputs": [],
      "execution_count": null
    },
    {
      "cell_type": "markdown",
      "source": [
        "**Try models: RandomForest and XGBoost (with hyperparam search)**"
      ],
      "metadata": {
        "id": "JhWVUIptfHAb"
      }
    },
    {
      "cell_type": "code",
      "source": [
        "from sklearn.ensemble import RandomForestRegressor\n",
        "from sklearn.model_selection import RandomizedSearchCV\n",
        "\n",
        "# pipeline with RandomForest\n",
        "rf_pipeline = Pipeline([\n",
        "    ('preprocessor', preprocessor),\n",
        "    ('rf', RandomForestRegressor(random_state=42, n_jobs=-1))\n",
        "])\n",
        "\n",
        "# a small grid for demo; expand for better results\n",
        "param_dist = {\n",
        "    'rf__n_estimators': [100, 250],\n",
        "    'rf__max_depth': [10, 20, None],\n",
        "    'rf__min_samples_split': [2, 5, 10]\n",
        "}\n",
        "\n",
        "rscv = RandomizedSearchCV(rf_pipeline, param_distributions=param_dist,\n",
        "                          n_iter=6, scoring='neg_root_mean_squared_error',\n",
        "                          cv=3, verbose=2, random_state=42)\n",
        "rscv.fit(X_train, y_train)\n",
        "print(\"Best params:\", rscv.best_params_)\n",
        "best_rf = rscv.best_estimator_\n",
        "\n",
        "# eval\n",
        "preds_rf = best_rf.predict(X_val)\n",
        "print(\"RF RMSE:\", math.sqrt(mean_squared_error(y_val, preds_rf)))\n"
      ],
      "metadata": {
        "trusted": true,
        "execution": {
          "iopub.status.busy": "2025-09-29T03:07:49.728146Z",
          "iopub.execute_input": "2025-09-29T03:07:49.728493Z",
          "iopub.status.idle": "2025-09-29T03:08:04.161138Z",
          "shell.execute_reply.started": "2025-09-29T03:07:49.728463Z",
          "shell.execute_reply": "2025-09-29T03:08:04.160185Z"
        },
        "id": "aAhUtfqkfHAb"
      },
      "outputs": [],
      "execution_count": null
    },
    {
      "cell_type": "markdown",
      "source": [
        "**XGBoost**"
      ],
      "metadata": {
        "id": "sKgjxS6IfHAb"
      }
    },
    {
      "cell_type": "code",
      "source": [
        "import xgboost as xgb\n",
        "from sklearn.pipeline import Pipeline\n",
        "\n",
        "xgb_pipeline = Pipeline([\n",
        "    ('preprocessor', preprocessor),\n",
        "    ('xgb', xgb.XGBRegressor(objective='reg:squarederror', random_state=42, n_jobs=-1))\n",
        "])\n",
        "\n",
        "xgb_pipeline.fit(X_train, y_train)\n",
        "preds_xgb = xgb_pipeline.predict(X_val)\n",
        "print(\"XGBoost RMSE:\", math.sqrt(mean_squared_error(y_val, preds_xgb)))\n"
      ],
      "metadata": {
        "trusted": true,
        "execution": {
          "iopub.status.busy": "2025-09-29T03:08:04.162023Z",
          "iopub.execute_input": "2025-09-29T03:08:04.162344Z",
          "iopub.status.idle": "2025-09-29T03:08:04.323284Z",
          "shell.execute_reply.started": "2025-09-29T03:08:04.162317Z",
          "shell.execute_reply": "2025-09-29T03:08:04.322604Z"
        },
        "id": "vlrZnV4BfHAb"
      },
      "outputs": [],
      "execution_count": null
    },
    {
      "cell_type": "markdown",
      "source": [
        "**Save the best pipeline/model with joblib**"
      ],
      "metadata": {
        "id": "ZOXBZ7zefHAb"
      }
    },
    {
      "cell_type": "code",
      "source": [
        "import joblib\n",
        "# Suppose best model is best_rf (sklearn pipeline already includes preprocessor + model)\n",
        "joblib.dump(best_rf, \"house_price_pipeline.joblib\")\n",
        "# You can also save XGBoost pipeline or scaler separately if desired\n"
      ],
      "metadata": {
        "trusted": true,
        "execution": {
          "iopub.status.busy": "2025-09-29T03:08:04.325475Z",
          "iopub.execute_input": "2025-09-29T03:08:04.326345Z",
          "iopub.status.idle": "2025-09-29T03:08:04.409979Z",
          "shell.execute_reply.started": "2025-09-29T03:08:04.326302Z",
          "shell.execute_reply": "2025-09-29T03:08:04.408368Z"
        },
        "id": "aYQTTdGBfHAb"
      },
      "outputs": [],
      "execution_count": null
    },
    {
      "cell_type": "markdown",
      "source": [
        "**Load & predict example**"
      ],
      "metadata": {
        "id": "HI5S8WuGfHAc"
      }
    },
    {
      "cell_type": "code",
      "source": [
        "loaded = joblib.load(\"house_price_pipeline.joblib\")\n",
        "sample = X_val.iloc[0:1]                   # a DataFrame row\n",
        "pred_log = loaded.predict(sample)          # prediction in log scale\n",
        "pred_price = np.expm1(pred_log)            # back to original price scale\n",
        "print(\"Predicted price:\", pred_price[0])\n"
      ],
      "metadata": {
        "trusted": true,
        "execution": {
          "iopub.status.busy": "2025-09-29T03:08:04.411066Z",
          "iopub.execute_input": "2025-09-29T03:08:04.411359Z",
          "iopub.status.idle": "2025-09-29T03:08:04.532715Z",
          "shell.execute_reply.started": "2025-09-29T03:08:04.411337Z",
          "shell.execute_reply": "2025-09-29T03:08:04.531735Z"
        },
        "id": "gm4ag_l8fHAc"
      },
      "outputs": [],
      "execution_count": null
    }
  ]
}